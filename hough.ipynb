{
  "nbformat": 4,
  "nbformat_minor": 0,
  "metadata": {
    "colab": {
      "name": "hough",
      "provenance": [],
      "collapsed_sections": []
    },
    "kernelspec": {
      "name": "python3",
      "display_name": "Python 3"
    }
  },
  "cells": [
    {
      "cell_type": "code",
      "metadata": {
        "id": "3gItIH4l_JzY"
      },
      "source": [
        "import numpy as np\r\n",
        "import matplotlib.pyplot as plt\r\n",
        "import cv2\r\n",
        "from google.colab.patches import cv2_imshow"
      ],
      "execution_count": null,
      "outputs": []
    },
    {
      "cell_type": "code",
      "metadata": {
        "colab": {
          "base_uri": "https://localhost:8080/",
          "height": 259
        },
        "id": "UC8hGJaYfOal",
        "outputId": "641dee1b-060e-4e86-beb2-78970956a308"
      },
      "source": [
        "# path = \"/content/drive/MyDrive/Colab Notebooks/mona-finden-lovestory.jpg\"\r\n",
        "path = \"/content/images.png\"\r\n",
        "scale = 1\r\n",
        "img = cv2.imread(path)\r\n",
        "img = cv2.cvtColor(src=img, code=cv2.COLOR_BGR2GRAY)\r\n",
        "img = cv2.resize(src=img, dsize=((int)(img.shape[1] * scale), (int)(img.shape[1] * scale)))\r\n",
        "\r\n",
        "print(img.shape)\r\n",
        "cv2_imshow(img)"
      ],
      "execution_count": null,
      "outputs": [
        {
          "output_type": "stream",
          "text": [
            "(225, 225)\n"
          ],
          "name": "stdout"
        },
        {
          "output_type": "display_data",
          "data": {
            "image/png": "[encoded data removed]",
            "text/plain": [
              "<PIL.Image.Image image mode=L size=225x225 at 0x7F1E4E094588>"
            ]
          },
          "metadata": {
            "tags": []
          }
        }
      ]
    },
    {
      "cell_type": "code",
      "metadata": {
        "id": "LYw-iV8M_kpC"
      },
      "source": [
        "class Hough:\r\n",
        "    def __init__(self, img, num=180, ksize=5):\r\n",
        "        h, w = img.shape\r\n",
        "        self.img = img\r\n",
        "        self.num = num\r\n",
        "        \r\n",
        "        self.tmin = -np.pi / 2\r\n",
        "        self.dt = np.pi / num\r\n",
        "\r\n",
        "        self.rmin = -np.sqrt(h**2 + w**2)\r\n",
        "        self.dr = 2 * np.sqrt(h**2 + w**2) / num\r\n",
        "\r\n",
        "        self.b = cv2.GaussianBlur(src=img, ksize=(ksize, ksize), sigmaX=1)\r\n",
        "        self.c = cv2.Canny(self.b, 50, 150)\r\n",
        "        self.a = np.zeros(shape=(num, num))\r\n",
        "        self.nma = np.zeros(shape=(num, num))\r\n",
        "        self.ma = np.zeros(shape=(num, num))\r\n",
        "\r\n",
        "    def idx2t(self, i):\r\n",
        "        return self.tmin + i * self.dt + self.dt / 2\r\n",
        "\r\n",
        "    def t2idx(self, theta):\r\n",
        "        return np.array(np.floor((theta - self.tmin) / self.dt), dtype=np.int32)\r\n",
        "\r\n",
        "    def idx2r(self, j):\r\n",
        "        return self.rmin + j * self.dr + self.dr / 2\r\n",
        "\r\n",
        "    def r2idx(self, rho):\r\n",
        "        return np.array(np.floor((rho - self.rmin) / self.dr), dtype=np.int32)\r\n",
        "\r\n",
        "    def accumulate(self):\r\n",
        "        a = np.zeros(shape=(self.num, self.num), dtype=np.uint32)\r\n",
        "        w, h = self.c.shape\r\n",
        "        for x in range(h):\r\n",
        "            for y in range(w):\r\n",
        "                if (self.c[x, y] != 0):    \r\n",
        "                    aj = np.arange(self.num)\r\n",
        "                    theta = self.idx2t(aj)\r\n",
        "                    rho = x * np.cos(theta) + y * np.sin(theta)\r\n",
        "                    ai = self.r2idx(rho)\r\n",
        "                    a[ai, aj] += 1\r\n",
        "        return a\r\n",
        "\r\n",
        "    def nonmaxima_suppress(self):\r\n",
        "        nma = np.array(object=self.a, dtype=np.uint32)\r\n",
        "        h, w = self.a.shape\r\n",
        "        for i in range(h):\r\n",
        "            for j in range(w):\r\n",
        "                try:\r\n",
        "                    c1 = (nma[i, j] <= self.a[i - 1, j - 1]) or (nma[i, j] <= self.a[i - 1, j])\r\n",
        "                    c2 = (nma[i, j] <= self.a[i - 1, j + 1]) or (nma[i, j] <= self.a[i, j - 1])\r\n",
        "                    c3 = (nma[i, j] <= self.a[i, j + 1]) or (nma[i, j] <= self.a[i + 1, j - 1])\r\n",
        "                    c4 = (nma[i, j] <= self.a[i + 1, j]) or (nma[i, j] <= self.a[i + 1, j + 1])\r\n",
        "                    if (c1 or c2 or c3 or c4):\r\n",
        "                        nma[i, j] = 0\r\n",
        "                except IndexError as e:\r\n",
        "                    pass \r\n",
        "        return nma\r\n",
        "\r\n",
        "    def detect(self):\r\n",
        "        self.a = self.accumulate()\r\n",
        "        self.nma = self.nonmaxima_suppress()\r\n",
        "        i, j = np.array(np.where(self.nma > 0))\r\n",
        "        theta = self.idx2t(i)\r\n",
        "        rho = self.idx2r(j)\r\n",
        "        self.detected = np.array((theta, rho)).T\r\n",
        "        return self.detected\r\n",
        "\r\n",
        "    def lines(self, num=10, slope=100):\r\n",
        "        i, j = np.array(np.where(self.nma > 0))\r\n",
        "        theta = self.idx2t(i)\r\n",
        "        rho = self.idx2r(j)\r\n",
        "        value = self.nma[i, j]\r\n",
        "        detected = np.array(object=(value, theta, rho)).T\r\n",
        "        idx = detected[:,0].argsort()\r\n",
        "        detected = detected[idx]\r\n",
        "\r\n",
        "        lines = []\r\n",
        "\r\n",
        "        for i in range(num):\r\n",
        "            a = np.cos(detected[i, 1])\r\n",
        "            b = np.sin(detected[i, 1])\r\n",
        "            x0 = a * detected[i, 2]\r\n",
        "            y0 = b * detected[i, 2]\r\n",
        "\r\n",
        "            x1 = np.floor(x0 + slope * (-b))\r\n",
        "            y1 = np.floor(y0 + slope * (a))\r\n",
        "            x2 = np.floor(x0 - slope * (-b))\r\n",
        "            y2 = np.floor(y0 - slope * (a))\r\n",
        "\r\n",
        "            lines.append([x1, y1, x2, y2])\r\n",
        "\r\n",
        "        return np.array(object=lines)"
      ],
      "execution_count": null,
      "outputs": []
    },
    {
      "cell_type": "code",
      "metadata": {
        "id": "_GdWWVUSBCxu"
      },
      "source": [
        "h = Hough(img, 100)\r\n",
        "h.detect()\r\n",
        "l = h.lines(10,10)"
      ],
      "execution_count": null,
      "outputs": []
    },
    {
      "cell_type": "code",
      "metadata": {
        "colab": {
          "base_uri": "https://localhost:8080/",
          "height": 285
        },
        "id": "EntAhzfcT5yc",
        "outputId": "d64d3151-b506-4b69-8bce-25fe7d663e2a"
      },
      "source": [
        "plt.imshow(h.accumulate())"
      ],
      "execution_count": null,
      "outputs": [
        {
          "output_type": "execute_result",
          "data": {
            "text/plain": [
              "<matplotlib.image.AxesImage at 0x7f1e4cf2cef0>"
            ]
          },
          "metadata": {
            "tags": []
          },
          "execution_count": 20
        },
        {
          "output_type": "display_data",
          "data": {
            "image/png": "[encoded data removed]",
            "text/plain": [
              "<Figure size 432x288 with 1 Axes>"
            ]
          },
          "metadata": {
            "tags": [],
            "needs_background": "light"
          }
        }
      ]
    },
    {
      "cell_type": "code",
      "metadata": {
        "colab": {
          "base_uri": "https://localhost:8080/",
          "height": 285
        },
        "id": "dajpGJSgEZSi",
        "outputId": "bcbd0681-ed46-423b-847f-fcf6fada99a2"
      },
      "source": [
        "plt.imshow(h.nonmaxima_suppress())"
      ],
      "execution_count": null,
      "outputs": [
        {
          "output_type": "execute_result",
          "data": {
            "text/plain": [
              "<matplotlib.image.AxesImage at 0x7f1e4d022dd8>"
            ]
          },
          "metadata": {
            "tags": []
          },
          "execution_count": 21
        },
        {
          "output_type": "display_data",
          "data": {
            "image/png": "[encoded data removed]",
            "text/plain": [
              "<Figure size 432x288 with 1 Axes>"
            ]
          },
          "metadata": {
            "tags": [],
            "needs_background": "light"
          }
        }
      ]
    },
    {
      "cell_type": "code",
      "metadata": {
        "id": "td7hVlfKmN2R",
        "colab": {
          "base_uri": "https://localhost:8080/",
          "height": 269
        },
        "outputId": "e8b02ec1-5862-4892-c7d4-0aee2e76a05e"
      },
      "source": [
        "plt.imshow(img)\r\n",
        "for x1, y1, x2, y2 in l:\r\n",
        "    plt.plot([x1, x2], [y1, y2])\r\n",
        "\r\n",
        "plt.show()"
      ],
      "execution_count": null,
      "outputs": [
        {
          "output_type": "display_data",
          "data": {
            "image/png": "[encoded data removed]",
            "text/plain": [
              "<Figure size 432x288 with 1 Axes>"
            ]
          },
          "metadata": {
            "tags": [],
            "needs_background": "light"
          }
        }
      ]
    }
  ]
}
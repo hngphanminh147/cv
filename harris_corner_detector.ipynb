{
  "nbformat": 4,
  "nbformat_minor": 0,
  "metadata": {
    "colab": {
      "name": "harris-corner-detector",
      "provenance": [],
      "collapsed_sections": [],
      "mount_file_id": "1rGGfMj6W7K5ur2UfbjDPzV2zY8-Mriwn",
      "authorship_tag": "ABX9TyO4pUf29xJM+eUyCdQrljKt",
      "include_colab_link": true
    },
    "kernelspec": {
      "name": "python3",
      "display_name": "Python 3"
    }
  },
  "cells": [
    {
      "cell_type": "markdown",
      "metadata": {
        "id": "view-in-github",
        "colab_type": "text"
      },
      "source": [
        "<a href=\"https://colab.research.google.com/github/hngphanminh147/cv/blob/master/harris_corner_detector.ipynb\" target=\"_parent\"><img src=\"https://colab.research.google.com/assets/colab-badge.svg\" alt=\"Open In Colab\"/></a>"
      ]
    },
    {
      "cell_type": "code",
      "metadata": {
        "id": "GYA8e9VAqQto"
      },
      "source": [
        "import numpy as np\r\n",
        "import matplotlib.pyplot as plt\r\n",
        "import cv2\r\n",
        "from scipy import ndimage\r\n",
        "\r\n",
        "from google.colab.patches import cv2_imshow"
      ],
      "execution_count": 7,
      "outputs": []
    },
    {
      "cell_type": "code",
      "metadata": {
        "colab": {
          "base_uri": "https://localhost:8080/",
          "height": 834
        },
        "id": "JewVZXEZr0f7",
        "outputId": "7463dc09-44e0-4cc5-bb38-d9710fe9e772"
      },
      "source": [
        "path = \"/content/drive/MyDrive/Colab Notebooks/img/large.jpg\"\r\n",
        "# path = \"/content/drive/MyDrive/Colab Notebooks/img/images.png\"\r\n",
        "scale = 1\r\n",
        "img = cv2.imread(path)\r\n",
        "img = cv2.cvtColor(img, code=cv2.COLOR_BGR2GRAY)\r\n",
        "# img = cv2.imread(path, flags=cv2.IMREAD_GRAYSCALE)\r\n",
        "img = cv2.resize(img, dsize=((int)(img.shape[1] * scale),(int)(img.shape[0] * scale)))\r\n",
        "\r\n",
        "print(img.shape)\r\n",
        "cv2_imshow(img)"
      ],
      "execution_count": 31,
      "outputs": [
        {
          "output_type": "stream",
          "text": [
            "(800, 800)\n"
          ],
          "name": "stdout"
        },
        {
          "output_type": "display_data",
          "data": {
            "image/png": "[encoded data removed]",
            "text/plain": [
              "<PIL.Image.Image image mode=L size=800x800 at 0x7F92112C83D0>"
            ]
          },
          "metadata": {
            "tags": []
          }
        }
      ]
    },
    {
      "cell_type": "code",
      "metadata": {
        "id": "2LTuZY2Es80I"
      },
      "source": [
        "class Harris:\r\n",
        "    def gray(self, img):\r\n",
        "        gray = img\r\n",
        "        if (len(gray.shape) == 3):\r\n",
        "            gray = cv2.cvtColor(src=img, code=cv2.COLOR_BGR2GRAY)\r\n",
        "        return gray\r\n",
        "\r\n",
        "    def blur(self, img):\r\n",
        "        blur = cv2.GaussianBlur(img, ksize=(3,3), sigmaX=1)\r\n",
        "        return blur\r\n",
        "\r\n",
        "    def determinant(self, mat):\r\n",
        "        return None\r\n",
        "\r\n",
        "    def trace(self, mat):\r\n",
        "        return None\r\n",
        "\r\n",
        "    def gaussian_kernel(self, ksize:int=5, sigma:int=1):\r\n",
        "        r = ksize // 2\r\n",
        "        x, y = np.mgrid[-r:r + 1, -r:r + 1]\r\n",
        "\r\n",
        "        a = 1.0 / (2.0 * np.pi * sigma**2)\r\n",
        "        b = np.exp(-(x**2 + y**2)/(2 * sigma**2))\r\n",
        "\r\n",
        "        return a*b\r\n",
        "\r\n",
        "    def sobel(self):\r\n",
        "        sobel_x = [[-1, 0, 1], [-2, 0, 2], [-1, 0, 1]]\r\n",
        "        sobel_y = [[1, 2, 1], [0, 0, 0], [-1, -2, -1]]\r\n",
        "\r\n",
        "        # derivates of img\r\n",
        "        der_x = cv2.filter2D(src=self.img, ddepth=-1, kernel=sobel_x)\r\n",
        "        der_y = cv2.filter2D(src=self.img, ddepth=-1, kernel=sobel_y)        \r\n",
        "        der_mat = np.array([[der_x**2, der_x * der_y], [der_x * der_y, der_y**2]], dtype=np.float32)\r\n",
        "\r\n",
        "        return der_mat\r\n",
        "\r\n",
        "    def harris_value(self):\r\n",
        "        w, h = self.img.shape\r\n",
        "        der_mat = self.sobel()\r\n",
        "        img = self.blur()\r\n",
        "\r\n",
        "        for i in range(1, w - 1):\r\n",
        "            for j in range(1, h - 1):\r\n",
        "                try:\r\n",
        "                    w = img[i - 1:i + 1, j - 1:j + 1] * der_mat\r\n",
        "                except ValueError as e:\r\n",
        "                    pass\r\n",
        "\r\n",
        "    def thresholding(self):\r\n",
        "        return None\r\n",
        "\r\n",
        "    def nonmaxima_supression(self):\r\n",
        "        return None\r\n",
        "\r\n",
        "    def detect(self, img, k=0.05, threshold_ratio=0.05, sup_val=10):\r\n",
        "        img = self.gray(img)\r\n",
        "        img = self.blur(img)\r\n",
        "        w, h = img.shape\r\n",
        "\r\n",
        "        sobel_x = [[-1, 0, 1], [-2, 0, 2], [-1, 0, 1]]\r\n",
        "        sobel_y = [[1, 2, 1], [0, 0, 0], [-1, -2, -1]]\r\n",
        "\r\n",
        "        # derivates of img\r\n",
        "        # ix = cv2.filter2D(src=img, ddepth=0, kernel=sobel_x)\r\n",
        "        # iy = cv2.filter2D(src=img, ddepth=0, kernel=sobel_y)\r\n",
        "        ix = ndimage.convolve(input=img, weights=sobel_x)\r\n",
        "        iy = ndimage.convolve(input=img, weights=sobel_y)\r\n",
        "        # products of derivatives\r\n",
        "        ixx = ix * ix\r\n",
        "        iyy = iy * iy\r\n",
        "        ixy = ix * iy\r\n",
        "        # sums of the products of derivatives\r\n",
        "        window = np.ones(shape=(3, 3))\r\n",
        "        sxx = ndimage.convolve(input=ixx, weights=window)\r\n",
        "        syy = ndimage.convolve(input=iyy, weights=window)\r\n",
        "        sxy = ndimage.convolve(input=ixy, weights=window)\r\n",
        "\r\n",
        "        # # define m matrix and calculate the response of the detector\r\n",
        "        # response = np.zeros(shape=(w, h))\r\n",
        "        response = []\r\n",
        "        max = 0\r\n",
        "        for i in range(1, w - 1):\r\n",
        "            for j in range(1, h - 1):\r\n",
        "                if (img[i, j] != 0):\r\n",
        "                    try:\r\n",
        "                        m = np.array(object=[[sxx[i, j], sxy[i, j]], [sxy[i, j], syy[i, j]]], dtype=np.int32)\r\n",
        "                        # RuntimeWarning: overflow encountered in ubyte_scalars\r\n",
        "                        det = m[0, 0] * m[1, 1] - m[0, 1] * m[1, 0]\r\n",
        "                        trace = m[0, 0] + m[1, 1]\r\n",
        "                        r = det - k * (trace**2)\r\n",
        "\r\n",
        "                        # response[i, j] = r\r\n",
        "                        response.append((i, j, r))\r\n",
        "\r\n",
        "                        if r > max:\r\n",
        "                            max = r\r\n",
        "\r\n",
        "                    except ValueError as e:\r\n",
        "                        pass\r\n",
        "        # thresholding\r\n",
        "        threshold = max * threshold_ratio\r\n",
        "        l = []\r\n",
        "        for res in response:\r\n",
        "            x, y, r = res\r\n",
        "            if r > threshold:\r\n",
        "                l.append([x, y, r])\r\n",
        "        # nonmaxima suppression\r\n",
        "        s = sorted(l, key=lambda l: l[2], reverse=True)\r\n",
        "        re = []\r\n",
        "        re.append(s[0])\r\n",
        "\r\n",
        "        for i in s:\r\n",
        "            append = True\r\n",
        "            for j in re:\r\n",
        "                if (abs(i[0] - j[0]) <= sup_val) and (abs(i[1] - j[1]) <= sup_val):\r\n",
        "                    append = False\r\n",
        "                    break\r\n",
        "            if (append) and (i not in re):\r\n",
        "                re.append(i)\r\n",
        "\r\n",
        "        re = np.array(re)\r\n",
        "        return re[:,0], re[:,1]\r\n"
      ],
      "execution_count": 32,
      "outputs": []
    },
    {
      "cell_type": "code",
      "metadata": {
        "id": "115jYB7-YrDw"
      },
      "source": [
        "h = Harris()\r\n",
        "x, y = h.detect(img, sup_val=20)"
      ],
      "execution_count": 33,
      "outputs": []
    },
    {
      "cell_type": "code",
      "metadata": {
        "colab": {
          "base_uri": "https://localhost:8080/",
          "height": 286
        },
        "id": "sB9FkuinOxJY",
        "outputId": "a5f65fda-b248-4c7c-ef15-ca5be7fd5ab5"
      },
      "source": [
        "plt.imshow(img)\r\n",
        "plt.scatter(y, x)"
      ],
      "execution_count": 34,
      "outputs": [
        {
          "output_type": "execute_result",
          "data": {
            "text/plain": [
              "<matplotlib.collections.PathCollection at 0x7f9211b63390>"
            ]
          },
          "metadata": {
            "tags": []
          },
          "execution_count": 34
        },
        {
          "output_type": "display_data",
          "data": {
            "image/png": "[encoded data removed]",
            "text/plain": [
              "<Figure size 432x288 with 1 Axes>"
            ]
          },
          "metadata": {
            "tags": [],
            "needs_background": "light"
          }
        }
      ]
    }
  ]
}
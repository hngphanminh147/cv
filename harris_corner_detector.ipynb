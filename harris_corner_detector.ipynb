{
  "nbformat": 4,
  "nbformat_minor": 0,
  "metadata": {
    "colab": {
      "name": "harris-corner-detector",
      "provenance": [],
      "collapsed_sections": [],
      "mount_file_id": "1rGGfMj6W7K5ur2UfbjDPzV2zY8-Mriwn",
      "authorship_tag": "ABX9TyOu8IgMZvpepK6E9zuEmlau",
      "include_colab_link": true
    },
    "kernelspec": {
      "name": "python3",
      "display_name": "Python 3"
    }
  },
  "cells": [
    {
      "cell_type": "markdown",
      "metadata": {
        "id": "view-in-github",
        "colab_type": "text"
      },
      "source": [
        "<a href=\"https://colab.research.google.com/github/hngphanminh147/cv/blob/master/harris_corner_detector.ipynb\" target=\"_parent\"><img src=\"https://colab.research.google.com/assets/colab-badge.svg\" alt=\"Open In Colab\"/></a>"
      ]
    },
    {
      "cell_type": "code",
      "metadata": {
        "id": "GYA8e9VAqQto"
      },
      "source": [
        "import numpy as np\r\n",
        "import matplotlib.pyplot as plt\r\n",
        "import cv2\r\n",
        "from scipy import ndimage\r\n",
        "\r\n",
        "from google.colab.patches import cv2_imshow"
      ],
      "execution_count": 1,
      "outputs": []
    },
    {
      "cell_type": "code",
      "metadata": {
        "colab": {
          "base_uri": "https://localhost:8080/",
          "height": 259
        },
        "id": "JewVZXEZr0f7",
        "outputId": "25412f89-9cea-4703-e934-fa69ff2ef548"
      },
      "source": [
        "# path = \"/content/drive/MyDrive/Colab Notebooks/img/large.jpg\"\r\n",
        "path = \"/content/drive/MyDrive/Colab Notebooks/img/images.png\"\r\n",
        "scale = 1\r\n",
        "img = cv2.imread(path)\r\n",
        "img = cv2.cvtColor(img, code=cv2.COLOR_BGR2GRAY)\r\n",
        "# img = cv2.imread(path, flags=cv2.IMREAD_GRAYSCALE)\r\n",
        "img = cv2.resize(img, dsize=((int)(img.shape[1] * scale),(int)(img.shape[0] * scale)))\r\n",
        "\r\n",
        "print(img.shape)\r\n",
        "cv2_imshow(img)"
      ],
      "execution_count": 2,
      "outputs": [
        {
          "output_type": "stream",
          "text": [
            "(225, 225)\n"
          ],
          "name": "stdout"
        },
        {
          "output_type": "display_data",
          "data": {
            "image/png": "[encoded data removed]",
            "text/plain": [
              "<PIL.Image.Image image mode=L size=225x225 at 0x7FF691278590>"
            ]
          },
          "metadata": {
            "tags": []
          }
        }
      ]
    },
    {
      "cell_type": "code",
      "metadata": {
        "id": "2LTuZY2Es80I"
      },
      "source": [
        "class Harris:\r\n",
        "    def gray(self, img):\r\n",
        "        gray = img\r\n",
        "        if (len(gray.shape) == 3):\r\n",
        "            gray = cv2.cvtColor(src=img, code=cv2.COLOR_BGR2GRAY)\r\n",
        "        return gray\r\n",
        "\r\n",
        "    def blur(self, img):\r\n",
        "        blur = cv2.GaussianBlur(img, ksize=(3,3), sigmaX=1)\r\n",
        "        return blur\r\n",
        "        \r\n",
        "    def detect(self, img, k=0.05, threshold_ratio=0.05, sup_val=10):\r\n",
        "        img = self.gray(img)\r\n",
        "        img = self.blur(img)\r\n",
        "        h, w = img.shape\r\n",
        "\r\n",
        "        sobel_x = [[-1, 0, 1], [-2, 0, 2], [-1, 0, 1]]\r\n",
        "        sobel_y = [[1, 2, 1], [0, 0, 0], [-1, -2, -1]]\r\n",
        "\r\n",
        "        # derivates of img\r\n",
        "        # ix = cv2.filter2D(src=img, ddepth=0, kernel=sobel_x)\r\n",
        "        # iy = cv2.filter2D(src=img, ddepth=0, kernel=sobel_y)\r\n",
        "        ix = ndimage.convolve(input=img, weights=sobel_x)\r\n",
        "        iy = ndimage.convolve(input=img, weights=sobel_y)\r\n",
        "        # products of derivatives\r\n",
        "        ixx = ix * ix\r\n",
        "        iyy = iy * iy\r\n",
        "        ixy = ix * iy\r\n",
        "        # sums of the products of derivatives\r\n",
        "        window = np.ones(shape=(3, 3))\r\n",
        "        sxx = ndimage.convolve(input=ixx, weights=window)\r\n",
        "        syy = ndimage.convolve(input=iyy, weights=window)\r\n",
        "        sxy = ndimage.convolve(input=ixy, weights=window)\r\n",
        "\r\n",
        "        # # define m matrix and calculate the response of the detector\r\n",
        "        # response = np.zeros(shape=(w, h))\r\n",
        "        response = []\r\n",
        "        max = 0\r\n",
        "        for i in range(1, h - 1):\r\n",
        "            for j in range(1, w - 1):\r\n",
        "                if (img[i, j] != 0):\r\n",
        "                    try:\r\n",
        "                        m = np.array(object=[[sxx[i, j], sxy[i, j]], [sxy[i, j], syy[i, j]]], dtype=np.int32)\r\n",
        "                        # RuntimeWarning: overflow encountered in ubyte_scalars\r\n",
        "                        det = m[0, 0] * m[1, 1] - m[0, 1] * m[1, 0]\r\n",
        "                        trace = m[0, 0] + m[1, 1]\r\n",
        "                        r = det - k * (trace**2)\r\n",
        "\r\n",
        "                        # response[i, j] = r\r\n",
        "                        response.append((i, j, r))\r\n",
        "\r\n",
        "                        if r > max:\r\n",
        "                            max = r\r\n",
        "\r\n",
        "                    except ValueError as e:\r\n",
        "                        pass\r\n",
        "        # thresholding\r\n",
        "        threshold = max * threshold_ratio\r\n",
        "        l = []\r\n",
        "        for res in response:\r\n",
        "            x, y, r = res\r\n",
        "            if r > threshold:\r\n",
        "                l.append([x, y, r])\r\n",
        "        # nonmaxima suppression\r\n",
        "        s = sorted(l, key=lambda l: l[2], reverse=True)\r\n",
        "        re = []\r\n",
        "        re.append(s[0])\r\n",
        "\r\n",
        "        for i in s:\r\n",
        "            append = True\r\n",
        "            for j in re:\r\n",
        "                if (abs(i[0] - j[0]) <= sup_val) and (abs(i[1] - j[1]) <= sup_val):\r\n",
        "                    append = False\r\n",
        "                    break\r\n",
        "            if (append) and (i not in re):\r\n",
        "                re.append(i)\r\n",
        "\r\n",
        "        re = np.array(re)\r\n",
        "        return re[:,0], re[:,1]\r\n"
      ],
      "execution_count": 3,
      "outputs": []
    },
    {
      "cell_type": "code",
      "metadata": {
        "id": "115jYB7-YrDw"
      },
      "source": [
        "h = Harris()\r\n",
        "y, x = h.detect(img, sup_val=30)"
      ],
      "execution_count": 4,
      "outputs": []
    },
    {
      "cell_type": "code",
      "metadata": {
        "id": "sB9FkuinOxJY",
        "colab": {
          "base_uri": "https://localhost:8080/",
          "height": 286
        },
        "outputId": "65a874a0-abae-4f08-ceee-926dfd5f3853"
      },
      "source": [
        "plt.imshow(img)\r\n",
        "plt.scatter(x, y)"
      ],
      "execution_count": 5,
      "outputs": [
        {
          "output_type": "execute_result",
          "data": {
            "text/plain": [
              "<matplotlib.collections.PathCollection at 0x7ff68fd18290>"
            ]
          },
          "metadata": {
            "tags": []
          },
          "execution_count": 5
        },
        {
          "output_type": "display_data",
          "data": {
            "image/png": "[encoded data removed]",
            "text/plain": [
              "<Figure size 432x288 with 1 Axes>"
            ]
          },
          "metadata": {
            "tags": [],
            "needs_background": "light"
          }
        }
      ]
    },
    {
      "cell_type": "code",
      "metadata": {
        "colab": {
          "base_uri": "https://localhost:8080/",
          "height": 663
        },
        "id": "o6bmEho3upqt",
        "outputId": "d5569fc1-02c5-404f-824f-d90c8216ce39"
      },
      "source": [
        "path = \"/content/drive/MyDrive/Colab Notebooks/img/large.jpg\"\r\n",
        "scale = 1\r\n",
        "img = cv2.imread(path)\r\n",
        "cv2_imshow(img)"
      ],
      "execution_count": 6,
      "outputs": [
        {
          "output_type": "display_data",
          "data": {
            "image/png": "[encoded data removed]",
            "text/plain": [
              "<PIL.Image.Image image mode=RGB size=800x800 at 0x7FF68FCA5750>"
            ]
          },
          "metadata": {
            "tags": []
          }
        }
      ]
    },
    {
      "cell_type": "code",
      "metadata": {
        "colab": {
          "base_uri": "https://localhost:8080/",
          "height": 286
        },
        "id": "N6XGLI5Husqg",
        "outputId": "c0ee519e-1cbf-4d00-84de-a26d1ca921a8"
      },
      "source": [
        "y, x = h.detect(img, sup_val=30)\r\n",
        "plt.imshow(img)\r\n",
        "plt.scatter(x, y)"
      ],
      "execution_count": 7,
      "outputs": [
        {
          "output_type": "execute_result",
          "data": {
            "text/plain": [
              "<matplotlib.collections.PathCollection at 0x7ff68fd4bd10>"
            ]
          },
          "metadata": {
            "tags": []
          },
          "execution_count": 7
        },
        {
          "output_type": "display_data",
          "data": {
            "image/png": "[encoded data removed]",
            "text/plain": [
              "<Figure size 432x288 with 1 Axes>"
            ]
          },
          "metadata": {
            "tags": [],
            "needs_background": "light"
          }
        }
      ]
    }
  ]
}